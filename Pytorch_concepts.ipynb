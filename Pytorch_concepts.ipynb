{
  "nbformat": 4,
  "nbformat_minor": 0,
  "metadata": {
    "colab": {
      "name": "Pytorch_concepts",
      "provenance": [],
      "authorship_tag": "ABX9TyPgmxZtGRyKWuezqlBuuVGf",
      "include_colab_link": true
    },
    "kernelspec": {
      "name": "python3",
      "display_name": "Python 3"
    },
    "language_info": {
      "name": "python"
    }
  },
  "cells": [
    {
      "cell_type": "markdown",
      "metadata": {
        "id": "view-in-github",
        "colab_type": "text"
      },
      "source": [
        "<a href=\"https://colab.research.google.com/github/patzaa/Pytorch-ML/blob/main/Pytorch_concepts.ipynb\" target=\"_parent\"><img src=\"https://colab.research.google.com/assets/colab-badge.svg\" alt=\"Open In Colab\"/></a>"
      ]
    },
    {
      "cell_type": "markdown",
      "metadata": {
        "id": "E2vrMvNswFy1"
      },
      "source": [
        "#1. Tensors\n",
        "Mathematically, a scalar, vector, matrix, all are tensors. In ML the notion mostly refers to multidimensional arrays. \n",
        "Tensors in Pytorch have similar functionalities than np arrays. With the main difference that you can specify the executiong on CPU or GPU. \n",
        " "
      ]
    },
    {
      "cell_type": "markdown",
      "metadata": {
        "id": "XP_HTlWn71zc"
      },
      "source": [
        "**From numpy to torch tensor**"
      ]
    },
    {
      "cell_type": "code",
      "metadata": {
        "id": "gFlvsxEvv-bw"
      },
      "source": [
        "import torch \n",
        "import numpy as np \n"
      ],
      "execution_count": null,
      "outputs": []
    },
    {
      "cell_type": "code",
      "metadata": {
        "id": "24woLPkZwXeA"
      },
      "source": [
        "np_array = np.random.rand(3,4)\n",
        "tensor = torch.tensor(np_array)"
      ],
      "execution_count": null,
      "outputs": []
    },
    {
      "cell_type": "markdown",
      "metadata": {
        "id": "KwLrzdRK75m3"
      },
      "source": [
        "**Create and manipulate torch tensors**\n"
      ]
    },
    {
      "cell_type": "code",
      "metadata": {
        "colab": {
          "base_uri": "https://localhost:8080/"
        },
        "id": "q5w-8CTW8QQw",
        "outputId": "d5f580b3-19fa-42a9-d1c2-8ae37aad1f72"
      },
      "source": [
        "#Create tensor randn, ones, zeros\n",
        "\n",
        "tensor_rand = torch.randn(2,3,4)\n",
        "tensor_ones = torch.ones(2,3,4)\n",
        "\n",
        "\n",
        "#Reshape tensor using view()\n",
        "reshaped_tensor = tensor_rand.view(-1,2)\n",
        "print(reshaped_tensor) "
      ],
      "execution_count": null,
      "outputs": [
        {
          "output_type": "stream",
          "text": [
            "tensor([[ 1.9290,  0.6137],\n",
            "        [-1.0168, -0.9069],\n",
            "        [-0.9906,  0.1031],\n",
            "        [ 0.4473, -1.7183],\n",
            "        [-0.7991,  1.0434],\n",
            "        [ 0.7823, -0.7586],\n",
            "        [ 1.7122,  0.1826],\n",
            "        [-0.1738, -0.7914]])\n"
          ],
          "name": "stdout"
        }
      ]
    },
    {
      "cell_type": "markdown",
      "metadata": {
        "id": "iM3_DN-XQj7q"
      },
      "source": [
        "**numpy like indexing and slicing**"
      ]
    },
    {
      "cell_type": "code",
      "metadata": {
        "colab": {
          "base_uri": "https://localhost:8080/"
        },
        "id": "qd4Xz2lwQ0ih",
        "outputId": "49df1c37-8397-409d-9d16-021c2d8b6130"
      },
      "source": [
        "tensor = torch.ones(3,4)\n",
        "print('First row:', tensor[0])\n",
        "print('First row first element', tensor[0][0])\n",
        "print('First column', tensor[:,0])\n",
        "\n",
        "tensor[:,1] = 0 \n",
        "print(tensor)\n",
        "\n"
      ],
      "execution_count": null,
      "outputs": [
        {
          "output_type": "stream",
          "text": [
            "First row: tensor([1., 1., 1., 1.])\n",
            "First row first element tensor(1.)\n",
            "First column tensor([1., 1., 1.])\n",
            "tensor([[1., 0., 1., 1.],\n",
            "        [1., 0., 1., 1.],\n",
            "        [1., 0., 1., 1.]])\n"
          ],
          "name": "stdout"
        }
      ]
    },
    {
      "cell_type": "markdown",
      "metadata": {
        "id": "cYHN2MKZVbJ3"
      },
      "source": [
        "**single element tensor**\n",
        "The `item()` method converts a single element tensor to a Python numerical value."
      ]
    },
    {
      "cell_type": "markdown",
      "metadata": {
        "id": "TjvTJ4O6-q0W"
      },
      "source": [
        "**Tensor to GPU**"
      ]
    },
    {
      "cell_type": "code",
      "metadata": {
        "colab": {
          "base_uri": "https://localhost:8080/"
        },
        "id": "stbwjlYjyWa0",
        "outputId": "fe13751e-ee33-48b5-a29f-f1ca6e4330f7"
      },
      "source": [
        "print(f\"Device tensor is stored on: {tensor.device}\")"
      ],
      "execution_count": null,
      "outputs": [
        {
          "output_type": "stream",
          "text": [
            "Device tensor is stored on: cpu\n"
          ],
          "name": "stdout"
        }
      ]
    },
    {
      "cell_type": "code",
      "metadata": {
        "colab": {
          "base_uri": "https://localhost:8080/"
        },
        "id": "zl_6t8FK_FVq",
        "outputId": "7529afa6-5f80-42d2-a959-d9a532b26cc9"
      },
      "source": [
        "device = 'cuda' if torch.cuda.is_available() else 'cpu'\n",
        "print('Using {} device'.format(device))"
      ],
      "execution_count": null,
      "outputs": [
        {
          "output_type": "stream",
          "text": [
            "Using cpu device\n"
          ],
          "name": "stdout"
        }
      ]
    },
    {
      "cell_type": "code",
      "metadata": {
        "colab": {
          "base_uri": "https://localhost:8080/"
        },
        "id": "HX37CnhV1y6-",
        "outputId": "4b20d688-c3c1-4bf7-d30a-469a72c26bac"
      },
      "source": [
        "tensor.to(\"cuda:0\")"
      ],
      "execution_count": null,
      "outputs": [
        {
          "output_type": "execute_result",
          "data": {
            "text/plain": [
              "tensor([[0.0227, 0.8663, 0.9068, 0.6723],\n",
              "        [0.8400, 0.5765, 0.2215, 0.9505],\n",
              "        [0.8707, 0.5846, 0.8889, 0.7882]], device='cuda:0',\n",
              "       dtype=torch.float64)"
            ]
          },
          "metadata": {
            "tags": []
          },
          "execution_count": 9
        }
      ]
    },
    {
      "cell_type": "markdown",
      "metadata": {
        "id": "dW_ZHFHq2Wa7"
      },
      "source": [
        "![Screenshot 2021-04-21 at 11.53.59 AM.png](data:image/png;base64,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)\n",
        "\n",
        "Graph tensors vs np arrays stored on GPU   \n"
      ]
    },
    {
      "cell_type": "markdown",
      "metadata": {
        "id": "5IVqLeSU3f4r"
      },
      "source": [
        "#2. Autograd\n",
        "Automatic differentiation in pytorch with a simple linear regression example. "
      ]
    },
    {
      "cell_type": "code",
      "metadata": {
        "id": "LSD-g2xO832Y"
      },
      "source": [
        "import torch  \n",
        "\n",
        "a = torch.tensor([5.], requires_grad=True)\n",
        "b = torch.tensor([4.], requires_grad=True)\n",
        "\n",
        "\n",
        "J = a**3 + b**2 + a*b"
      ],
      "execution_count": null,
      "outputs": []
    },
    {
      "cell_type": "markdown",
      "metadata": {
        "id": "oEZcleYfDgrO"
      },
      "source": [
        "Let’s assume a and b to be parameters of an NN, and J to be the error. In NN training, we want gradients of the error w.r.t. all parameters i.e.\n",
        "\n",
        "$ \\frac{dY}{da} = 3a^2 + a = 79$\n",
        "\n",
        "$ \\frac{dY}{db} = 2b + b = 13$"
      ]
    },
    {
      "cell_type": "markdown",
      "metadata": {
        "id": "WB6VQ62gFIeQ"
      },
      "source": [
        "This can be automated when calling .backward() on J, autograd calculates these gradients and stores them in the respective tensors’ .grad attribute."
      ]
    },
    {
      "cell_type": "code",
      "metadata": {
        "colab": {
          "base_uri": "https://localhost:8080/"
        },
        "id": "9rw9P_SPFUHw",
        "outputId": "030c2325-1a6f-414d-9179-3b0dc0347461"
      },
      "source": [
        "J.backward()\n",
        "\n",
        "a.grad\n",
        "b.grad"
      ],
      "execution_count": null,
      "outputs": [
        {
          "output_type": "execute_result",
          "data": {
            "text/plain": [
              "tensor([13.])"
            ]
          },
          "metadata": {
            "tags": []
          },
          "execution_count": 6
        }
      ]
    },
    {
      "cell_type": "code",
      "metadata": {
        "colab": {
          "base_uri": "https://localhost:8080/"
        },
        "id": "j3OWRR155WCU",
        "outputId": "ade054b1-c869-4023-b2a5-953194118dd6"
      },
      "source": [
        "import torch \n",
        "import numpy as np\n",
        "\n",
        "lr = 0.003\n",
        "\n",
        "\n",
        "x = torch.randn(1, 50)\n",
        "W = torch.randn(50, 1, requires_grad = True) #Slope\n",
        "B = torch.randn(1, requires_grad=True) #Intersect\n",
        "\n",
        "\n",
        "\n",
        "Y = torch.matmul(x, W) + B\n",
        "\n",
        "\n",
        "loss = (1 - Y)\n",
        "loss.backward()\n",
        "\n",
        "# print the gradient of B\n",
        "W.grad\n",
        "\n"
      ],
      "execution_count": null,
      "outputs": [
        {
          "output_type": "execute_result",
          "data": {
            "text/plain": [
              "tensor([[ 1.1149],\n",
              "        [-1.0781],\n",
              "        [-0.5265],\n",
              "        [ 0.6010],\n",
              "        [ 0.9952],\n",
              "        [-0.1082],\n",
              "        [-0.3713],\n",
              "        [ 0.9032],\n",
              "        [-0.6581],\n",
              "        [-0.3815],\n",
              "        [-1.3857],\n",
              "        [-1.1868],\n",
              "        [-1.4838],\n",
              "        [ 0.9506],\n",
              "        [-0.6123],\n",
              "        [-0.6661],\n",
              "        [-0.0342],\n",
              "        [ 2.2274],\n",
              "        [-1.2963],\n",
              "        [ 0.8712],\n",
              "        [ 1.0483],\n",
              "        [ 2.1539],\n",
              "        [-0.6225],\n",
              "        [-0.1173],\n",
              "        [-0.6479],\n",
              "        [ 0.0188],\n",
              "        [ 1.2609],\n",
              "        [-1.3675],\n",
              "        [ 2.0360],\n",
              "        [-0.0532],\n",
              "        [ 1.3730],\n",
              "        [-0.8878],\n",
              "        [-0.9322],\n",
              "        [ 0.0284],\n",
              "        [ 2.4114],\n",
              "        [-0.7184],\n",
              "        [-2.6210],\n",
              "        [-0.7982],\n",
              "        [ 0.8738],\n",
              "        [-0.0249],\n",
              "        [-1.0401],\n",
              "        [-2.4637],\n",
              "        [-0.1572],\n",
              "        [ 1.0219],\n",
              "        [-0.5047],\n",
              "        [-0.4124],\n",
              "        [ 0.8329],\n",
              "        [-0.1749],\n",
              "        [ 0.7471],\n",
              "        [-1.0304]])"
            ]
          },
          "metadata": {
            "tags": []
          },
          "execution_count": 13
        }
      ]
    },
    {
      "cell_type": "markdown",
      "metadata": {
        "id": "GxDcskgOCDNZ"
      },
      "source": [
        "The `item() `function returns the loss's value as a float this can be used to calculate the mean loss per epoch"
      ]
    },
    {
      "cell_type": "code",
      "metadata": {
        "id": "1rMqm-MpCAUk"
      },
      "source": [
        "loss.item()"
      ],
      "execution_count": null,
      "outputs": []
    },
    {
      "cell_type": "markdown",
      "metadata": {
        "id": "rwIHA2lXRn3f"
      },
      "source": [
        "# Dataset Class\n",
        "A custom **dataset class** for tabular data sets containing of three main methods:\n",
        "\n",
        "\n",
        "\n",
        "```\n",
        "__init__ () \n",
        "```\n",
        "```\n",
        "__len__() \n",
        "```\n",
        "```\n",
        "__getitem__()\n",
        "```\n",
        "Make the data accessable by indexing. Specify the specific KEY to access them outside of Class using e.g. Labels = dataset[\"KEY\"]\n",
        "\n",
        " "
      ]
    },
    {
      "cell_type": "code",
      "metadata": {
        "id": "YTsuKajSe5fp"
      },
      "source": [
        "import torch \n",
        "from sklearn.datasets import make_classification"
      ],
      "execution_count": null,
      "outputs": []
    },
    {
      "cell_type": "code",
      "metadata": {
        "id": "gqVjqCgzSJrn"
      },
      "source": [
        "class Dataset():\n",
        "  def __init__(self, data, targets):\n",
        "    self.data = data\n",
        "    self.targets = targets\n",
        "  \n",
        "  def __len__(self):\n",
        "    return len(self.data)\n",
        "  \n",
        "  #returns a sample from the dataset at the given index idx\n",
        "  def __getitem__(self, idx):\n",
        "    current_sample = self.data[idx]\n",
        "    current_target = self.targets[idx]\n",
        "    return {\n",
        "        \"samples\": torch.tensor(current_sample, dtype=torch.float),\n",
        "        \"target\" : torch.tensor(current_target, dtype=torch.long)\n",
        "    }"
      ],
      "execution_count": null,
      "outputs": []
    },
    {
      "cell_type": "code",
      "metadata": {
        "id": "TnuDqetWfNtb"
      },
      "source": [
        "#import custom data\n",
        "data, targets = make_classification(n_samples=1000)"
      ],
      "execution_count": null,
      "outputs": []
    },
    {
      "cell_type": "code",
      "metadata": {
        "id": "Jbd0yStwgB_H"
      },
      "source": [
        "#create dataset class\n",
        "\n",
        "dataset_classification = Dataset(data=data, targets=targets)"
      ],
      "execution_count": null,
      "outputs": []
    },
    {
      "cell_type": "code",
      "metadata": {
        "colab": {
          "base_uri": "https://localhost:8080/"
        },
        "id": "mcLQoxWklGEJ",
        "outputId": "f9dc1fd2-48bb-40c4-b516-7492b21f661e"
      },
      "source": [
        "#fist element in dataset\n",
        "dataset_classification[0:][\"samples\"]"
      ],
      "execution_count": null,
      "outputs": [
        {
          "output_type": "execute_result",
          "data": {
            "text/plain": [
              "tensor([[-1.1077,  0.0165,  1.5052,  ..., -0.8647, -0.8659,  1.0976],\n",
              "        [ 0.3939,  0.1772,  1.9511,  ...,  0.6771, -2.1009, -1.3076],\n",
              "        [-0.8618, -0.6664, -0.7384,  ..., -0.7248, -1.6828, -0.6917],\n",
              "        ...,\n",
              "        [ 0.8772, -0.0768,  1.2891,  ...,  0.5181, -0.7023, -0.4234],\n",
              "        [-0.7236,  0.7958, -2.0639,  ...,  0.0162,  1.2244,  0.5253],\n",
              "        [-1.1384, -0.7075,  0.6835,  ...,  0.4521, -0.2262,  1.5400]])"
            ]
          },
          "metadata": {
            "tags": []
          },
          "execution_count": 68
        }
      ]
    },
    {
      "cell_type": "markdown",
      "metadata": {
        "id": "EGVyVVLD-ZBg"
      },
      "source": [
        "##Simple Dataset class for computer vision problems\n"
      ]
    },
    {
      "cell_type": "code",
      "metadata": {
        "id": "QFnGCNCp-XGu"
      },
      "source": [
        "import torch \n",
        "import cv2\n",
        "import numpy as np\n",
        "\n",
        "class Dataset():\n",
        "  def __init__(self, image_path, targets, augmentatios):\n",
        "    self.image_path = image_path\n",
        "    self.targets = targets\n",
        "    self.augmentatios = augmentations\n",
        "\n",
        "  def __len__(self):\n",
        "    return len(self.image_paths)\n",
        "\n",
        "  def __getitem__(self, idx):\n",
        "    target = self.targets[idx]\n",
        "    #loading an image given the path\n",
        "    image = cv2.imread(self.image_paths[idx])\n",
        "    #convert to RGB\n",
        "    image =cv2.cvtColor(image, cv2.COLOR_BGR2RGB)\n",
        "    augmented = self.augmentations(image=image, mask=mask)\n",
        "    image = augmented[\"image\"]\n",
        "    mask = augmented[\"mask\"]\n",
        "    image = np.transpose(image, (2, 0, 1)).astype(np.float32)\n",
        "\n",
        "    return{\n",
        "        \"image\" : torch.tensor(image),\n",
        "        \"target\" : torch.tensor(targets)\n",
        "    }\n",
        "    "
      ],
      "execution_count": null,
      "outputs": []
    },
    {
      "cell_type": "code",
      "metadata": {
        "colab": {
          "base_uri": "https://localhost:8080/"
        },
        "id": "fVg5I3R9JjMt",
        "outputId": "a7845e05-84f5-4a3c-bcd6-8f16bff44304"
      },
      "source": [
        ""
      ],
      "execution_count": null,
      "outputs": [
        {
          "output_type": "stream",
          "text": [
            "Object `cv2.augmentations` not found.\n"
          ],
          "name": "stdout"
        }
      ]
    },
    {
      "cell_type": "markdown",
      "metadata": {
        "id": "J4eBiK-DD7ok"
      },
      "source": [
        "##Simple Dataset class for NLP problems"
      ]
    },
    {
      "cell_type": "code",
      "metadata": {
        "id": "eHQL3FAHH0Al"
      },
      "source": [
        "import torch \n",
        "\n",
        "class Dataset():\n",
        "  def __init__(self, data, targets, tokenizer):\n",
        "    self.data = data #usually a list of text\n",
        "    self.targets = targets\n",
        "    self.tokenizer = tokenizer\n",
        "\n",
        "  def __len__(self):\n",
        "    return len(self.data)\n",
        "\n",
        "\n",
        "  def __getitem__(self, idx):\n",
        "    text = self.data[idx] \n",
        "    target = self.targets[]\n",
        "\n",
        "    #Tokenizer convert raw text to numbers stored in list input_id\n",
        "    input_ids = tokenizer(text)\n",
        "    \n",
        "    return{\n",
        "        \"input_ids\": torc.tensor(input_ids, dtype=torch.long),\n",
        "        \"targets\": torch.tensor(targets)\n",
        "    }\n",
        "    "
      ],
      "execution_count": null,
      "outputs": []
    },
    {
      "cell_type": "markdown",
      "metadata": {
        "id": "VsSSYLfVU7LP"
      },
      "source": [
        "#Dataloader"
      ]
    },
    {
      "cell_type": "markdown",
      "metadata": {
        "id": "qQ7oajjr4UUm"
      },
      "source": [
        " \n",
        "The Dateset Class retrieves our dataset's features and lables one sample at a time. While training a model, we typically want to pass samples in “minibatches”, reshuffle the data at every epoch to reduce model overfitting. Thats where Dataloaders come in handy as they wrap a iterable over the dataset.  "
      ]
    },
    {
      "cell_type": "code",
      "metadata": {
        "id": "q6IVm68x6nR5"
      },
      "source": [
        "?torch.utils.data.DataLoader"
      ],
      "execution_count": null,
      "outputs": []
    },
    {
      "cell_type": "code",
      "metadata": {
        "id": "fDPE-67n64I-"
      },
      "source": [
        "train_dataloader = torch.utils.data.DataLoader(dataset_classification, batch_size=10, num_workers=2)"
      ],
      "execution_count": null,
      "outputs": []
    },
    {
      "cell_type": "code",
      "metadata": {
        "colab": {
          "base_uri": "https://localhost:8080/"
        },
        "id": "MH797rXO7v5W",
        "outputId": "6d0b5883-5c3e-4723-e4a4-7b3f009955df"
      },
      "source": [
        "# DataLoader returns an iterable \n",
        "for data in train_dataloader: \n",
        "  print(data[\"samples\"].shape)\n",
        "  break"
      ],
      "execution_count": null,
      "outputs": [
        {
          "output_type": "stream",
          "text": [
            "torch.Size([10, 20])\n"
          ],
          "name": "stdout"
        }
      ]
    },
    {
      "cell_type": "markdown",
      "metadata": {
        "id": "KC5JXbxCW4bx"
      },
      "source": [
        "\n",
        "\n",
        "\n",
        "#Example \n",
        "The following example creates a **Dataset Class** \n",
        "for a classification probem using sklearn to train a linera regression model\n",
        "\n"
      ]
    },
    {
      "cell_type": "code",
      "metadata": {
        "id": "fczTMMuvVW8e"
      },
      "source": [
        "import torch \n",
        "from sklearn.datasets import make_classification\n",
        "from sklearn.model_selection import train_test_split\n",
        "\n",
        "NUM_EPOCHS = 10\n",
        "BATCH_SIZE = 10\n",
        "LR = 1e-2"
      ],
      "execution_count": null,
      "outputs": []
    },
    {
      "cell_type": "code",
      "metadata": {
        "id": "qfn9wRqFSIP3"
      },
      "source": [
        "class Dataset():\n",
        "  def __init__(self, data, targets):\n",
        "    self.data = data\n",
        "    self.targets = targets \n",
        "\n",
        "  def __len__(self):\n",
        "    return self.data.shape[0]\n",
        "\n",
        "  def __getitem__(self, idx):\n",
        "    current_sample = self.data[idx]\n",
        "    current_target = self.targets[idx]\n",
        "    return {\n",
        "        \"samples\": torch.tensor(current_sample),\n",
        "        \"target\" : torch.tensor(current_target)\n",
        "    }"
      ],
      "execution_count": null,
      "outputs": []
    },
    {
      "cell_type": "code",
      "metadata": {
        "id": "LAHr4UpjSUHa"
      },
      "source": [
        "# 1. load entire dataset from sklearn\n",
        "data, targets = make_classification(n_samples = 1000, n_features=20, random_state=42)\n",
        "\n",
        "# 2. split data\n",
        "train_data, validation_data, train_targets, validation_targets = train_test_split(\n",
        "    data, \n",
        "    targets, \n",
        "    stratify=targets #keeps ratio of negative to positive samples equal in train and validation \n",
        "    )\n",
        "# 3. instansiate Dataset object\n",
        "train_dataset = Dataset(train_data, train_targets)\n",
        "validation_dataset = Dataset(validation_data, validation_targets)\n",
        "\n",
        "# 4. define an iterable trainloader object which we can iterate on in the trainig loop \n",
        "\n",
        "train_dataloader = torch.utils.data.DataLoader(\n",
        "    train_dataset, \n",
        "    batch_size = BATCH_SIZE, \n",
        "    num_workers = 2\n",
        "    )\n",
        "\n",
        "validation_dataloader = torch.utils.data.DataLoader(\n",
        "    train_dataset, \n",
        "    batch_size = BATCH_SIZE, \n",
        "    num_workers = 2\n",
        "    )\n"
      ],
      "execution_count": null,
      "outputs": []
    },
    {
      "cell_type": "markdown",
      "metadata": {
        "id": "Wr0i8lBP86Ee"
      },
      "source": [
        "Loading "
      ]
    },
    {
      "cell_type": "code",
      "metadata": {
        "id": "zGfNGvriWvxK",
        "colab": {
          "base_uri": "https://localhost:8080/",
          "height": 232
        },
        "outputId": "ddad22be-eabb-4d0d-ff18-285f49cc0ea0"
      },
      "source": [
        "#simpe linear regression model y = w*x + b\n",
        "model = lambda x, w, b: torch.matmul(x, w.T) + b \n",
        "\n",
        "w = torch.randn(1,20, requires_grad=True)\n",
        "b = torch.randn(1, requires_grad=True)\n",
        "\n",
        "\n",
        "\n",
        "for epoch in range(NUM_EPOCHS):\n",
        "  epoch_loss = 0 \n",
        "\n",
        "  #iterating training set\n",
        "  for data in train_dataloader: \n",
        "    xtrain = data[\"samples\"]\n",
        "    ytrain = data[\"target\"]\n",
        "    \n",
        "    prediction = model(xtrain, w, b)\n",
        "    loss = torch.mean((ytrain.view(-1) - prediction.view(-1))**2)\n",
        "    loss = (prediction - ytrain).sum() \n",
        "    epoch_loss += loss.item()\n",
        "    loss.backwards()\n",
        "    \n",
        "    with torch.no_grad(): \n",
        "      w =  w - LR * w.grad\n",
        "      b =  b - LR * b.grad\n",
        "\n",
        "    w.requires_grad(True)\n",
        "    b.requires_grad(False)\n",
        "  \n",
        "  print(epoch, epoch_loss)\n",
        "\n",
        "    \n",
        "    \n"
      ],
      "execution_count": null,
      "outputs": [
        {
          "output_type": "error",
          "ename": "NameError",
          "evalue": "ignored",
          "traceback": [
            "\u001b[0;31m---------------------------------------------------------------------------\u001b[0m",
            "\u001b[0;31mNameError\u001b[0m                                 Traceback (most recent call last)",
            "\u001b[0;32m<ipython-input-1-a895d223222b>\u001b[0m in \u001b[0;36m<module>\u001b[0;34m()\u001b[0m\n\u001b[1;32m      2\u001b[0m \u001b[0mmodel\u001b[0m \u001b[0;34m=\u001b[0m \u001b[0;32mlambda\u001b[0m \u001b[0mx\u001b[0m\u001b[0;34m,\u001b[0m \u001b[0mw\u001b[0m\u001b[0;34m,\u001b[0m \u001b[0mb\u001b[0m\u001b[0;34m:\u001b[0m \u001b[0mtorch\u001b[0m\u001b[0;34m.\u001b[0m\u001b[0mmatmul\u001b[0m\u001b[0;34m(\u001b[0m\u001b[0mx\u001b[0m\u001b[0;34m,\u001b[0m \u001b[0mw\u001b[0m\u001b[0;34m.\u001b[0m\u001b[0mT\u001b[0m\u001b[0;34m)\u001b[0m \u001b[0;34m+\u001b[0m \u001b[0mb\u001b[0m\u001b[0;34m\u001b[0m\u001b[0;34m\u001b[0m\u001b[0m\n\u001b[1;32m      3\u001b[0m \u001b[0;34m\u001b[0m\u001b[0m\n\u001b[0;32m----> 4\u001b[0;31m \u001b[0mw\u001b[0m \u001b[0;34m=\u001b[0m \u001b[0mtorch\u001b[0m\u001b[0;34m.\u001b[0m\u001b[0mrandn\u001b[0m\u001b[0;34m(\u001b[0m\u001b[0;36m1\u001b[0m\u001b[0;34m,\u001b[0m\u001b[0;36m20\u001b[0m\u001b[0;34m,\u001b[0m \u001b[0mrequires_grad\u001b[0m\u001b[0;34m=\u001b[0m\u001b[0;32mTrue\u001b[0m\u001b[0;34m)\u001b[0m\u001b[0;34m\u001b[0m\u001b[0;34m\u001b[0m\u001b[0m\n\u001b[0m\u001b[1;32m      5\u001b[0m \u001b[0mb\u001b[0m \u001b[0;34m=\u001b[0m \u001b[0mtorch\u001b[0m\u001b[0;34m.\u001b[0m\u001b[0mrandn\u001b[0m\u001b[0;34m(\u001b[0m\u001b[0;36m1\u001b[0m\u001b[0;34m,\u001b[0m \u001b[0mrequires_grad\u001b[0m\u001b[0;34m=\u001b[0m\u001b[0;32mTrue\u001b[0m\u001b[0;34m)\u001b[0m\u001b[0;34m\u001b[0m\u001b[0;34m\u001b[0m\u001b[0m\n\u001b[1;32m      6\u001b[0m \u001b[0;34m\u001b[0m\u001b[0m\n",
            "\u001b[0;31mNameError\u001b[0m: name 'torch' is not defined"
          ]
        }
      ]
    },
    {
      "cell_type": "code",
      "metadata": {
        "colab": {
          "base_uri": "https://localhost:8080/",
          "height": 181
        },
        "id": "w4WkLpVLJrza",
        "outputId": "fac51bbc-5c53-4064-862b-33289b3ba888"
      },
      "source": [
        "train_data.shape\n",
        "\n"
      ],
      "execution_count": null,
      "outputs": [
        {
          "output_type": "error",
          "ename": "TypeError",
          "evalue": "ignored",
          "traceback": [
            "\u001b[0;31m---------------------------------------------------------------------------\u001b[0m",
            "\u001b[0;31mTypeError\u001b[0m                                 Traceback (most recent call last)",
            "\u001b[0;32m<ipython-input-39-2adeef4cdb19>\u001b[0m in \u001b[0;36m<module>\u001b[0;34m()\u001b[0m\n\u001b[1;32m      1\u001b[0m \u001b[0mtrain_data\u001b[0m\u001b[0;34m.\u001b[0m\u001b[0mshape\u001b[0m\u001b[0;34m\u001b[0m\u001b[0;34m\u001b[0m\u001b[0m\n\u001b[0;32m----> 2\u001b[0;31m \u001b[0mtrain_data\u001b[0m\u001b[0;34m.\u001b[0m\u001b[0mview\u001b[0m\u001b[0;34m(\u001b[0m\u001b[0;34m-\u001b[0m\u001b[0;36m1\u001b[0m\u001b[0;34m)\u001b[0m\u001b[0;34m\u001b[0m\u001b[0;34m\u001b[0m\u001b[0m\n\u001b[0m",
            "\u001b[0;31mTypeError\u001b[0m: Cannot interpret '-1' as a data type"
          ]
        }
      ]
    },
    {
      "cell_type": "markdown",
      "metadata": {
        "id": "Ad89MxQ9qoHV"
      },
      "source": [
        "#Optimization \n",
        "The Optimization step consists of two main activities: \n",
        "\n",
        "\n",
        "\n",
        "*   **Trian Loop**: iterate over the training dataset \n",
        "*   **Validation/ Test Loop**: iterate over the test set to see if model performance is improving \n",
        "\n",
        "### Loss - Function \n",
        "measures the degree of dissimilarity between predictions and target values. \n",
        "\n",
        "Classification Tasks:\n",
        "```\n",
        "#negative log likelihood loss\n",
        "Loss_fn = nn.NLLLoss()\n",
        "```\n",
        "```\n",
        "Loss_fn = nn.CrossEntropyLoss()\n",
        "```\n",
        "Regression Tasks: \n",
        "```\n",
        "Loss_fn = nn.MSELoss()\n",
        "```\n",
        "\n",
        "\n",
        "### Optimizer \n",
        "\n",
        "We initialize the optimizer by registering the model’s parameters that need to be trained, and passing in the learning rate hyperparameter.\n",
        "\n",
        "```optimizer = torch.optim.SGD( model.parameters(), rl= learning_rate) ```\n",
        "`\n",
        "\n",
        "\n",
        "The logic is encapsulated in the ```optimizer``` object and happens in three steps: \n",
        "\n",
        "\n",
        "\n",
        "1.   ```optimizer.zero_grad()``` the gradient of the parameters by default add up so we need to reset them at each iteration \n",
        "\n",
        "\n",
        "2.   ```loss.backwards()``` calculate the gradient w.r.t each parameter \n",
        "\n",
        "3. ```optimizer.step()``` to adjust the parameters by the gradients collected in the backward pass.\n",
        "\n",
        "\n",
        "\n"
      ]
    },
    {
      "cell_type": "code",
      "metadata": {
        "id": "f2Mu-Oa5yGvd"
      },
      "source": [
        ""
      ],
      "execution_count": null,
      "outputs": []
    }
  ]
}